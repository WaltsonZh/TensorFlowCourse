{
  "nbformat": 4,
  "nbformat_minor": 0,
  "metadata": {
    "colab": {
      "provenance": [],
      "collapsed_sections": [
        "nryQcaT2NN0i",
        "RfxcEV8XNY6N"
      ],
      "authorship_tag": "ABX9TyNMYgetq2nCT0I4CcDEQ57K",
      "include_colab_link": true
    },
    "kernelspec": {
      "name": "python3",
      "display_name": "Python 3"
    },
    "language_info": {
      "name": "python"
    }
  },
  "cells": [
    {
      "cell_type": "markdown",
      "metadata": {
        "id": "view-in-github",
        "colab_type": "text"
      },
      "source": [
        "<a href=\"https://colab.research.google.com/github/WaltsonZh/TensorFlowCourse/blob/main/L2.ipynb\" target=\"_parent\"><img src=\"https://colab.research.google.com/assets/colab-badge.svg\" alt=\"Open In Colab\"/></a>"
      ]
    },
    {
      "cell_type": "code",
      "execution_count": 1,
      "metadata": {
        "id": "N6F6NmyBHlmO"
      },
      "outputs": [],
      "source": [
        "import tensorflow as tf"
      ]
    },
    {
      "cell_type": "markdown",
      "source": [
        "> If you're running on a GPU, you'll get a message `Successfully opened dynamic library cudart64_101.dll`, if you find that anoying the following code will save you."
      ],
      "metadata": {
        "id": "dTrBjCoAIABp"
      }
    },
    {
      "cell_type": "code",
      "source": [
        "import os\n",
        "os.environ['TF_CPP_MIN_LOG_LEVEL'] = '2'\n",
        "import tensorflow as tf\n",
        "\n",
        "# prevent tensorflow allocate all the memory from the GPU\n",
        "physical_divices = tf.config.list_physical_devices('GPU')\n",
        "# physical_divices[0] if you have only one GPU\n",
        "tf.config.experimental.set_memory_growth(physical_divices[0], True)"
      ],
      "metadata": {
        "id": "0BfO3536Ilx8"
      },
      "execution_count": 2,
      "outputs": []
    },
    {
      "cell_type": "markdown",
      "source": [
        "# **Initialization**"
      ],
      "metadata": {
        "id": "nryQcaT2NN0i"
      }
    },
    {
      "cell_type": "code",
      "source": [
        "x = tf.constant(4) # dtype=int32\n",
        "# print(x)\n",
        "\n",
        "y = tf.constant(4.0) # dtype=float32\n",
        "# print(y)\n",
        "\n",
        "z = tf.constant(4, shape=(1, 1), dtype=tf.float32)\n",
        "# print(z)\n",
        "\n",
        "arr = tf.constant([[1, 2, 3], [4, 5, 6]])\n",
        "# print(arr)\n",
        "\n",
        "one = tf.ones((3, 3))\n",
        "# print(one)\n",
        "\n",
        "zero = tf.zeros((2, 3))\n",
        "# print(zero)\n",
        "\n",
        "# Identity matrix\n",
        "eye = tf.eye(3)\n",
        "# print(eye)\n",
        "\n",
        "# Standard distribution\n",
        "std = tf.random.normal((3, 3), mean=0, stddev=1)\n",
        "# print(std)\n",
        "\n",
        "# Uniform distribution\n",
        "uni = tf.random.uniform((1, 3), minval=0, maxval=1)\n",
        "# print(uni)\n",
        "\n",
        "r = tf.range(start=1, limit=10, delta=2)\n",
        "# print(r)\n",
        "\n",
        "cast = tf.cast(r, dtype=tf.float64)\n",
        "# print(cast)\n",
        "\n"
      ],
      "metadata": {
        "id": "LMPwIeKyJE9C"
      },
      "execution_count": null,
      "outputs": []
    },
    {
      "cell_type": "markdown",
      "source": [
        "# **Mathematical Operations**"
      ],
      "metadata": {
        "id": "RfxcEV8XNY6N"
      }
    },
    {
      "cell_type": "code",
      "source": [
        "x = tf.constant([1, 2, 3])\n",
        "y = tf.constant([9, 8, 7])\n",
        "\n",
        "# add = tf.add(x, y)\n",
        "add = x + y\n",
        "# print(add)\n",
        "\n",
        "# sub = tf.subtract(x, y)\n",
        "sub = x - y\n",
        "# print(sub)\n",
        "\n",
        "# div = tf.divide(x, y)\n",
        "div = x / y\n",
        "# print(div)\n",
        "\n",
        "# mul = tf.multiply(x, y)\n",
        "mul = x * y\n",
        "# print(mul)\n",
        "\n",
        "# dot = tf.reduce_sum(x * y, axis=0)\n",
        "dot = tf.tensordot(x, y, axes=1)\n",
        "# print(dot)\n",
        "\n",
        "exp = x ** 5\n",
        "# print(exp)\n",
        "\n",
        "x = tf.random.normal((2, 3))\n",
        "y = tf.random.normal((3, 4))\n",
        "\n",
        "# matmul = tf.matmul(x, y)\n",
        "matmul = x @ y\n",
        "# print(matmul)"
      ],
      "metadata": {
        "id": "ysnp1Zf4Ne4X"
      },
      "execution_count": null,
      "outputs": []
    },
    {
      "cell_type": "markdown",
      "source": [
        "# **Indexing**"
      ],
      "metadata": {
        "id": "BvlZbzTwQ_12"
      }
    },
    {
      "cell_type": "code",
      "source": [
        "x = tf.constant([0, 1, 2, 3, 4, 5, 6, 7])\n",
        "\n",
        "# print(x[:])\n",
        "# print(x[1:])\n",
        "# print(x[1:3])\n",
        "# print(x[::2])\n",
        "# print(x[::-1])\n",
        "\n",
        "indeces = tf.constant([0, 3])\n",
        "x_ind = tf.gather(x, indeces)\n",
        "# print(x_ind)\n",
        "\n",
        "x = tf.constant([[1, 2],\n",
        "                 [3, 4],\n",
        "                 [5, 6]])\n",
        "# print(x[0])\n",
        "# print(x[0:2])\n",
        "# print(x[1, 1])"
      ],
      "metadata": {
        "id": "d7AG3aF-RD-H"
      },
      "execution_count": null,
      "outputs": []
    },
    {
      "cell_type": "markdown",
      "source": [
        "# **Reshaping**"
      ],
      "metadata": {
        "id": "oZgzhcUgSpfI"
      }
    },
    {
      "cell_type": "code",
      "source": [
        "x = tf.range(9)\n",
        "\n",
        "reshape = tf.reshape(x, (3, 3))\n",
        "# print(reshape)\n",
        "\n",
        "transp = tf.transpose(reshape, perm=[1, 0])\n",
        "print(transp)"
      ],
      "metadata": {
        "colab": {
          "base_uri": "https://localhost:8080/"
        },
        "id": "Cs5Kw12tStwa",
        "outputId": "bd9e86fa-9e5f-4a4d-841d-afa6646c1dbd"
      },
      "execution_count": 53,
      "outputs": [
        {
          "output_type": "stream",
          "name": "stdout",
          "text": [
            "tf.Tensor(\n",
            "[[0 3 6]\n",
            " [1 4 7]\n",
            " [2 5 8]], shape=(3, 3), dtype=int32)\n"
          ]
        }
      ]
    }
  ]
}